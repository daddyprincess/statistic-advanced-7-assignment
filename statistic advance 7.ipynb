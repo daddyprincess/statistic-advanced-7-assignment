{
 "cells": [
  {
   "cell_type": "markdown",
   "id": "2c2dc559-568f-4db1-b08c-95c9565bbba4",
   "metadata": {},
   "source": [
    "## Q1. Write a Python function that takes in two arrays of data and calculates the F-value for a variance ratio test. The function should return the F-value and the corresponding p-value for the test."
   ]
  },
  {
   "cell_type": "code",
   "execution_count": 2,
   "id": "b224cdd0-5194-4980-bf88-8913417a701e",
   "metadata": {},
   "outputs": [
    {
     "name": "stdout",
     "output_type": "stream",
     "text": [
      "F-value: 4.120000000000004\n",
      "P-value: 0.09953975677490223\n"
     ]
    }
   ],
   "source": [
    "import numpy as np\n",
    "import scipy.stats as stats\n",
    "\n",
    "def variance_ratio_test(data1, data2):\n",
    "    \"\"\"\n",
    "    Calculate the F-value and p-value for a variance ratio test between two datasets.\n",
    "\n",
    "    Parameters:\n",
    "    data1 (array-like): First dataset.\n",
    "    data2 (array-like): Second dataset.\n",
    "\n",
    "    Returns:\n",
    "    f_value (float): The calculated F-value.\n",
    "    p_value (float): The corresponding p-value.\n",
    "    \"\"\"\n",
    "    # Calculate the variances of the two datasets\n",
    "    var1 = np.var(data1, ddof=1)  # ddof=1 for unbiased estimate\n",
    "    var2 = np.var(data2, ddof=1)\n",
    "\n",
    "    # Calculate the F-value\n",
    "    f_value = var1 / var2\n",
    "\n",
    "    # Calculate the degrees of freedom\n",
    "    df1 = len(data1) - 1\n",
    "    df2 = len(data2) - 1\n",
    "\n",
    "    # Calculate the p-value using the F-distribution\n",
    "    p_value = 1 - stats.f.cdf(f_value, df1, df2)\n",
    "\n",
    "    return f_value, p_value\n",
    "\n",
    "# Example data (replace with your own data)\n",
    "data1 = [3.2, 2.7, 3.5, 2.8, 3.0]\n",
    "data2 = [2.9, 2.5, 2.7, 2.6, 2.8]\n",
    "\n",
    "# Calculate the F-value and p-value\n",
    "f_value, p_value = variance_ratio_test(data1, data2)\n",
    "\n",
    "# Print the results\n",
    "print(f\"F-value: {f_value}\")\n",
    "print(f\"P-value: {p_value}\")\n"
   ]
  },
  {
   "cell_type": "markdown",
   "id": "c6e0b915-2eed-4db8-80a9-238eb0ef5d68",
   "metadata": {},
   "source": [
    "## Q2. Given a significance level of 0.05 and the degrees of freedom for the numerator and denominator of an F-distribution, write a Python function that returns the critical F-value for a two-tailed test."
   ]
  },
  {
   "cell_type": "code",
   "execution_count": 3,
   "id": "ebcdad5a-330f-45ff-978b-84bc3aa6499c",
   "metadata": {},
   "outputs": [
    {
     "name": "stdout",
     "output_type": "stream",
     "text": [
      "Critical F-value: 3.8586986662732143\n"
     ]
    }
   ],
   "source": [
    "import scipy.stats as stats\n",
    "\n",
    "def critical_f_value(alpha, df1, df2):\n",
    "    \"\"\"\n",
    "    Calculate the critical F-value for a two-tailed test at a given significance level.\n",
    "\n",
    "    Parameters:\n",
    "    alpha (float): Significance level (e.g., 0.05 for a 5% significance level).\n",
    "    df1 (int): Degrees of freedom for the numerator.\n",
    "    df2 (int): Degrees of freedom for the denominator.\n",
    "\n",
    "    Returns:\n",
    "    crit_f_value (float): The critical F-value for the specified alpha and degrees of freedom.\n",
    "    \"\"\"\n",
    "    # Calculate the critical F-value for the upper tail (1 - alpha/2)\n",
    "    crit_f_value = stats.f.ppf(1 - alpha / 2, df1, df2)\n",
    "\n",
    "    return crit_f_value\n",
    "\n",
    "# Example: Calculate the critical F-value for alpha = 0.05, df1 = 3, df2 = 20\n",
    "alpha = 0.05\n",
    "df1 = 3\n",
    "df2 = 20\n",
    "\n",
    "crit_f = critical_f_value(alpha, df1, df2)\n",
    "print(f\"Critical F-value: {crit_f}\")"
   ]
  },
  {
   "cell_type": "markdown",
   "id": "b614ca81-279a-41a7-8588-03e26c4f5316",
   "metadata": {},
   "source": [
    "## Q3. Write a Python program that generates random samples from two normal distributions with known variances and uses an F-test to determine if the variances are equal. The program should output the F-value, degrees of freedom, and p-value for the test."
   ]
  },
  {
   "cell_type": "code",
   "execution_count": 4,
   "id": "9e4bdfe7-78f1-4830-b052-1c4bebe9f522",
   "metadata": {},
   "outputs": [
    {
     "name": "stdout",
     "output_type": "stream",
     "text": [
      "F-value: 1.4485238079262461\n",
      "Degrees of Freedom (numerator): 29\n",
      "Degrees of Freedom (denominator): 29\n",
      "P-value: 0.3239480363296252\n"
     ]
    }
   ],
   "source": [
    "import numpy as np\n",
    "import scipy.stats as stats\n",
    "\n",
    "def perform_f_test(sample1, sample2):\n",
    "    \"\"\"\n",
    "    Perform an F-test to determine if the variances of two samples are equal.\n",
    "\n",
    "    Parameters:\n",
    "    sample1 (array-like): First sample.\n",
    "    sample2 (array-like): Second sample.\n",
    "\n",
    "    Returns:\n",
    "    f_value (float): The calculated F-value.\n",
    "    df1 (int): Degrees of freedom for the numerator.\n",
    "    df2 (int): Degrees of freedom for the denominator.\n",
    "    p_value (float): The p-value for the test.\n",
    "    \"\"\"\n",
    "    # Calculate variances of the two samples\n",
    "    var1 = np.var(sample1, ddof=1)  # ddof=1 for unbiased estimate\n",
    "    var2 = np.var(sample2, ddof=1)\n",
    "\n",
    "    # Calculate the F-value\n",
    "    f_value = var1 / var2\n",
    "\n",
    "    # Calculate degrees of freedom\n",
    "    df1 = len(sample1) - 1\n",
    "    df2 = len(sample2) - 1\n",
    "\n",
    "    # Calculate the p-value\n",
    "    p_value = 2 * min(stats.f.cdf(f_value, df1, df2), 1 - stats.f.cdf(f_value, df1, df2))\n",
    "\n",
    "    return f_value, df1, df2, p_value\n",
    "\n",
    "# Generate random samples from two normal distributions with known variances\n",
    "np.random.seed(0)\n",
    "sample_size = 30\n",
    "mean1 = 50\n",
    "variance1 = 25\n",
    "sample1 = np.random.normal(mean1, np.sqrt(variance1), sample_size)\n",
    "\n",
    "mean2 = 55\n",
    "variance2 = 25\n",
    "sample2 = np.random.normal(mean2, np.sqrt(variance2), sample_size)\n",
    "\n",
    "# Perform the F-test\n",
    "f_value, df1, df2, p_value = perform_f_test(sample1, sample2)\n",
    "\n",
    "# Output the results\n",
    "print(f\"F-value: {f_value}\")\n",
    "print(f\"Degrees of Freedom (numerator): {df1}\")\n",
    "print(f\"Degrees of Freedom (denominator): {df2}\")\n",
    "print(f\"P-value: {p_value}\")"
   ]
  },
  {
   "cell_type": "markdown",
   "id": "69e44daf-cfcd-4c7b-a1fb-ea3e51794e11",
   "metadata": {},
   "source": [
    "## Q4.The variances of two populations are known to be 10 and 15. A sample of 12 observations is taken from each population. Conduct an F-test at the 5% significance level to determine if the variances are significantly different."
   ]
  },
  {
   "cell_type": "code",
   "execution_count": 5,
   "id": "4710582d-6b6c-4ec2-981c-d0c709ecd46b",
   "metadata": {},
   "outputs": [
    {
     "name": "stdout",
     "output_type": "stream",
     "text": [
      "Fail to reject the null hypothesis: Variances are not significantly different.\n"
     ]
    }
   ],
   "source": [
    "import scipy.stats as stats\n",
    "\n",
    "# Known variances\n",
    "variance1 = 10\n",
    "variance2 = 15\n",
    "\n",
    "# Sample sizes\n",
    "n1 = 12\n",
    "n2 = 12\n",
    "\n",
    "# Calculate the F-statistic\n",
    "f_statistic = variance1 / variance2\n",
    "\n",
    "# Degrees of freedom\n",
    "df1 = n1 - 1\n",
    "df2 = n2 - 1\n",
    "\n",
    "# Significance level\n",
    "alpha = 0.05\n",
    "\n",
    "# Find the critical F-value for a two-tailed test\n",
    "critical_f_value = stats.f.ppf(1 - alpha / 2, df1, df2)\n",
    "\n",
    "# Compare the F-statistic to the critical F-value\n",
    "if f_statistic > critical_f_value:\n",
    "    print(\"Reject the null hypothesis: Variances are significantly different.\")\n",
    "else:\n",
    "    print(\"Fail to reject the null hypothesis: Variances are not significantly different.\")"
   ]
  },
  {
   "cell_type": "markdown",
   "id": "c0d318d4-f2ba-434b-b578-1f08166689b9",
   "metadata": {},
   "source": [
    "## Q5. A manufacturer claims that the variance of the diameter of a certain product is 0.005. A sample of 25 products is taken, and the sample variance is found to be 0.006. Conduct an F-test at the 1% significance level to determine if the claim is justified."
   ]
  },
  {
   "cell_type": "code",
   "execution_count": 6,
   "id": "af0db94b-6968-4ec3-819e-eb8ca02a3454",
   "metadata": {},
   "outputs": [
    {
     "name": "stdout",
     "output_type": "stream",
     "text": [
      "Fail to reject the null hypothesis: Claim is justified.\n"
     ]
    }
   ],
   "source": [
    "import scipy.stats as stats\n",
    "\n",
    "# Claimed variance\n",
    "claimed_variance = 0.005\n",
    "\n",
    "# Sample variance\n",
    "sample_variance = 0.006\n",
    "\n",
    "# Sample size\n",
    "n = 25\n",
    "\n",
    "# Degrees of freedom\n",
    "df1 = n - 1\n",
    "df2 = 1\n",
    "\n",
    "# Significance level\n",
    "alpha = 0.01\n",
    "\n",
    "# Calculate the F-statistic\n",
    "f_statistic = sample_variance / claimed_variance\n",
    "\n",
    "# Find the critical F-values for a two-tailed test\n",
    "critical_f_value_lower = stats.f.ppf(alpha / 2, df1, df2)\n",
    "critical_f_value_upper = stats.f.ppf(1 - alpha / 2, df1, df2)\n",
    "\n",
    "# Compare the F-statistic to the critical values\n",
    "if f_statistic < critical_f_value_lower or f_statistic > critical_f_value_upper:\n",
    "    print(\"Reject the null hypothesis: Claim is not justified.\")\n",
    "else:\n",
    "    print(\"Fail to reject the null hypothesis: Claim is justified.\")"
   ]
  },
  {
   "cell_type": "markdown",
   "id": "910cc15e-fb52-4695-bf39-60f9ccf33be4",
   "metadata": {},
   "source": [
    "## Q6. Write a Python function that takes in the degrees of freedom for the numerator and denominator of an F-distribution and calculates the mean and variance of the distribution. The function should return the mean and variance as a tuple."
   ]
  },
  {
   "cell_type": "code",
   "execution_count": 7,
   "id": "4f932d35-2a4e-46d7-9af9-94102279e654",
   "metadata": {},
   "outputs": [
    {
     "name": "stdout",
     "output_type": "stream",
     "text": [
      "Mean: 1.25\n",
      "Variance: 1.3541666666666667\n"
     ]
    }
   ],
   "source": [
    "def calculate_f_distribution_mean_and_variance(df1, df2):\n",
    "    \"\"\"\n",
    "    Calculate the mean and variance of an F-distribution based on degrees of freedom.\n",
    "\n",
    "    Parameters:\n",
    "    df1 (int): Degrees of freedom for the numerator.\n",
    "    df2 (int): Degrees of freedom for the denominator.\n",
    "\n",
    "    Returns:\n",
    "    mean (float): Mean of the F-distribution.\n",
    "    variance (float): Variance of the F-distribution.\n",
    "    \"\"\"\n",
    "    # Check if df2 > 2 (mean defined)\n",
    "    if df2 <= 2:\n",
    "        raise ValueError(\"Degrees of freedom for the denominator (df2) must be greater than 2.\")\n",
    "\n",
    "    # Calculate the mean of the F-distribution\n",
    "    mean = df2 / (df2 - 2)\n",
    "\n",
    "    # Check if df2 > 4 (variance defined)\n",
    "    if df2 <= 4:\n",
    "        raise ValueError(\"Degrees of freedom for the denominator (df2) must be greater than 4 for variance to be defined.\")\n",
    "\n",
    "    # Calculate the variance of the F-distribution\n",
    "    variance = (2 * (df2 ** 2) * (df1 + df2 - 2)) / (df1 * ((df2 - 2) ** 2) * (df2 - 4))\n",
    "\n",
    "    return mean, variance\n",
    "\n",
    "# Example usage:\n",
    "df1 = 5\n",
    "df2 = 10\n",
    "mean, variance = calculate_f_distribution_mean_and_variance(df1, df2)\n",
    "print(f\"Mean: {mean}\")\n",
    "print(f\"Variance: {variance}\")"
   ]
  },
  {
   "cell_type": "markdown",
   "id": "34701901-3de7-4a62-a8dd-37e4b7b9cc69",
   "metadata": {},
   "source": [
    "## Q7. A random sample of 10 measurements is taken from a normal population with unknown variance. The sample variance is found to be 25. Another random sample of 15 measurements is taken from another normal population with unknown variance, and the sample variance is found to be 20. Conduct an F-test at the 10% significance level to determine if the variances are significantly different."
   ]
  },
  {
   "cell_type": "code",
   "execution_count": 8,
   "id": "5ffb90b9-5c10-4237-8927-3fbc2727d128",
   "metadata": {},
   "outputs": [
    {
     "name": "stdout",
     "output_type": "stream",
     "text": [
      "Fail to reject the null hypothesis: Variances are equal.\n"
     ]
    }
   ],
   "source": [
    "import scipy.stats as stats\n",
    "\n",
    "# Sample variances\n",
    "sample_variance1 = 25\n",
    "sample_variance2 = 20\n",
    "\n",
    "# Sample sizes\n",
    "n1 = 10\n",
    "n2 = 15\n",
    "\n",
    "# Degrees of freedom\n",
    "df1 = n1 - 1\n",
    "df2 = n2 - 1\n",
    "\n",
    "# Significance level\n",
    "alpha = 0.10\n",
    "\n",
    "# Calculate the F-statistic\n",
    "f_statistic = sample_variance1 / sample_variance2\n",
    "\n",
    "# Find the critical F-values for a two-tailed test\n",
    "critical_f_value_lower = stats.f.ppf(alpha / 2, df1, df2)\n",
    "critical_f_value_upper = stats.f.ppf(1 - alpha / 2, df1, df2)\n",
    "\n",
    "# Compare the F-statistic to the critical values\n",
    "if f_statistic < critical_f_value_lower or f_statistic > critical_f_value_upper:\n",
    "    print(\"Reject the null hypothesis: Variances are not equal.\")\n",
    "else:\n",
    "    print(\"Fail to reject the null hypothesis: Variances are equal.\")"
   ]
  },
  {
   "cell_type": "markdown",
   "id": "62c38611-1f37-4ed3-8053-27328d896d69",
   "metadata": {},
   "source": [
    "## Q8. The following data represent the waiting times in minutes at two different restaurants on a Saturday night: Restaurant A: 24, 25, 28, 23, 22, 20, 27; Restaurant B: 31, 33, 35, 30, 32, 36. Conduct an F-test at the 5% significance level to determine if the variances are significantly different."
   ]
  },
  {
   "cell_type": "code",
   "execution_count": 9,
   "id": "3182bf5b-5728-4685-ac5f-16cfdaab8fcb",
   "metadata": {},
   "outputs": [
    {
     "name": "stdout",
     "output_type": "stream",
     "text": [
      "Fail to reject the null hypothesis: Variances are equal.\n"
     ]
    }
   ],
   "source": [
    "import numpy as np\n",
    "import scipy.stats as stats\n",
    "\n",
    "# Data for Restaurant A and Restaurant B\n",
    "data_A = np.array([24, 25, 28, 23, 22, 20, 27])\n",
    "data_B = np.array([31, 33, 35, 30, 32, 36])\n",
    "\n",
    "# Calculate the sample variances for each restaurant\n",
    "variance_A = np.var(data_A, ddof=1)\n",
    "variance_B = np.var(data_B, ddof=1)\n",
    "\n",
    "# Sample sizes\n",
    "n_A = len(data_A)\n",
    "n_B = len(data_B)\n",
    "\n",
    "# Degrees of freedom\n",
    "df1 = n_A - 1\n",
    "df2 = n_B - 1\n",
    "\n",
    "# Significance level\n",
    "alpha = 0.05\n",
    "\n",
    "# Calculate the F-statistic\n",
    "f_statistic = variance_A / variance_B\n",
    "\n",
    "# Find the critical F-values for a two-tailed test\n",
    "critical_f_value_lower = stats.f.ppf(alpha / 2, df1, df2)\n",
    "critical_f_value_upper = stats.f.ppf(1 - alpha / 2, df1, df2)\n",
    "\n",
    "# Compare the F-statistic to the critical values\n",
    "if f_statistic < critical_f_value_lower or f_statistic > critical_f_value_upper:\n",
    "    print(\"Reject the null hypothesis: Variances are not equal.\")\n",
    "else:\n",
    "    print(\"Fail to reject the null hypothesis: Variances are equal.\")"
   ]
  },
  {
   "cell_type": "markdown",
   "id": "29424e0d-b656-4d6e-a544-7b01dae8da39",
   "metadata": {},
   "source": [
    "## Q9. The following data represent the test scores of two groups of students: Group A: 80, 85, 90, 92, 87, 83; Group B: 75, 78, 82, 79, 81, 84. Conduct an F-test at the 1% significance level to determine if the variances are significantly different."
   ]
  },
  {
   "cell_type": "code",
   "execution_count": 10,
   "id": "27d4c3bc-3309-4187-a57f-25eb202d96fd",
   "metadata": {},
   "outputs": [
    {
     "name": "stdout",
     "output_type": "stream",
     "text": [
      "Fail to reject the null hypothesis: Variances are equal.\n"
     ]
    }
   ],
   "source": [
    "import numpy as np\n",
    "import scipy.stats as stats\n",
    "\n",
    "# Data for Group A and Group B\n",
    "data_A = np.array([80, 85, 90, 92, 87, 83])\n",
    "data_B = np.array([75, 78, 82, 79, 81, 84])\n",
    "\n",
    "# Calculate the sample variances for each group\n",
    "variance_A = np.var(data_A, ddof=1)\n",
    "variance_B = np.var(data_B, ddof=1)\n",
    "\n",
    "# Sample sizes\n",
    "n_A = len(data_A)\n",
    "n_B = len(data_B)\n",
    "\n",
    "# Degrees of freedom\n",
    "df1 = n_A - 1\n",
    "df2 = n_B - 1\n",
    "\n",
    "# Significance level\n",
    "alpha = 0.01\n",
    "\n",
    "# Calculate the F-statistic\n",
    "f_statistic = variance_A / variance_B\n",
    "\n",
    "# Find the critical F-values for a two-tailed test\n",
    "critical_f_value_lower = stats.f.ppf(alpha / 2, df1, df2)\n",
    "critical_f_value_upper = stats.f.ppf(1 - alpha / 2, df1, df2)\n",
    "\n",
    "# Compare the F-statistic to the critical values\n",
    "if f_statistic < critical_f_value_lower or f_statistic > critical_f_value_upper:\n",
    "    print(\"Reject the null hypothesis: Variances are not equal.\")\n",
    "else:\n",
    "    print(\"Fail to reject the null hypothesis: Variances are equal.\")\n"
   ]
  }
 ],
 "metadata": {
  "kernelspec": {
   "display_name": "Python 3 (ipykernel)",
   "language": "python",
   "name": "python3"
  },
  "language_info": {
   "codemirror_mode": {
    "name": "ipython",
    "version": 3
   },
   "file_extension": ".py",
   "mimetype": "text/x-python",
   "name": "python",
   "nbconvert_exporter": "python",
   "pygments_lexer": "ipython3",
   "version": "3.10.8"
  }
 },
 "nbformat": 4,
 "nbformat_minor": 5
}
